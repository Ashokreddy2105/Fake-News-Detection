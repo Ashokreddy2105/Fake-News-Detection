{
  "nbformat": 4,
  "nbformat_minor": 0,
  "metadata": {
    "colab": {
      "provenance": []
    },
    "kernelspec": {
      "name": "python3",
      "display_name": "Python 3"
    },
    "language_info": {
      "name": "python"
    }
  },
  "cells": [
    {
      "cell_type": "code",
      "execution_count": null,
      "metadata": {
        "colab": {
          "base_uri": "https://localhost:8080/"
        },
        "id": "ISaqWnleWBM7",
        "outputId": "2c022209-9451-435b-c4ea-870ddc751e00"
      },
      "outputs": [
        {
          "output_type": "stream",
          "name": "stderr",
          "text": [
            "[nltk_data] Downloading package punkt to /root/nltk_data...\n",
            "[nltk_data]   Package punkt is already up-to-date!\n",
            "[nltk_data] Downloading package stopwords to /root/nltk_data...\n",
            "[nltk_data]   Package stopwords is already up-to-date!\n"
          ]
        }
      ],
      "source": [
        "import pandas as pd\n",
        "import numpy as np\n",
        "import matplotlib.pyplot as plt\n",
        "import warnings\n",
        "from sklearn.feature_extraction.text import TfidfVectorizer\n",
        "from sklearn.model_selection import train_test_split\n",
        "from sklearn.ensemble import RandomForestClassifier\n",
        "from sklearn.metrics import classification_report, confusion_matrix, ConfusionMatrixDisplay\n",
        "import pickle\n",
        "import nltk\n",
        "\n",
        "nltk.download('punkt')\n",
        "nltk.download('stopwords')\n",
        "\n",
        "from nltk.tokenize import word_tokenize, RegexpTokenizer\n",
        "from nltk.corpus import stopwords\n",
        "from nltk.stem import PorterStemmer\n",
        "\n",
        "class FakeNewsDetection():\n",
        "    def __init__(self, input_file, test_data_ratio):\n",
        "        self.df = pd.read_csv(input_file, encoding='utf-8', header=0)\n",
        "        self.test_data_ratio = test_data_ratio\n",
        "        print(self.df.head())\n",
        "        print(self.test_data_ratio)\n",
        "\n",
        "    def preprocess_data(self, data):\n",
        "        tk = RegexpTokenizer('\\s+', gaps=True)\n",
        "        text_data = []\n",
        "\n",
        "        for values in data.text:\n",
        "            tokenized_data = tk.tokenize(values)\n",
        "            text_data.append(tokenized_data)\n",
        "\n",
        "        sw = stopwords.words('english')\n",
        "        clean_data = []\n",
        "\n",
        "        for data in text_data:\n",
        "            clean_text = [words.lower() for words in data if words.lower() not in sw]\n",
        "            clean_data.append(clean_text)\n",
        "\n",
        "        ps = PorterStemmer()\n",
        "        stemmed_data = []\n",
        "\n",
        "        for data in clean_data:\n",
        "            stemmed_text = [ps.stem(words) for words in data]\n",
        "            stemmed_data.append(stemmed_text)\n",
        "\n",
        "        updated_data = []\n",
        "\n",
        "        for data in stemmed_data:\n",
        "            updated_data.append(\" \".join(data))\n",
        "\n",
        "        return updated_data\n",
        "\n",
        "    def tfidf(self, data):\n",
        "        self.tfidf = TfidfVectorizer(max_features=5000)  # Limit to top 5000 features\n",
        "        self.tfidf.fit(data)\n",
        "\n",
        "    def compute_metrics(self, data, y_true, model_obj):\n",
        "        y_pred = model_obj.predict(data)\n",
        "        print(classification_report(y_true, y_pred))\n",
        "        cm = confusion_matrix(y_true, y_pred, labels=model_obj.classes_)\n",
        "        disp = ConfusionMatrixDisplay(confusion_matrix=cm, display_labels=model_obj.classes_)\n",
        "        disp.plot()\n",
        "        plt.show()\n",
        "\n",
        "    def detect(self):\n",
        "        print(\"--- Preprocessing data ---\")\n",
        "        self.df.drop_duplicates(inplace=True)\n",
        "        self.df.dropna(inplace=True)\n",
        "        preprocessed_data = self.preprocess_data(self.df.drop('label', axis=1))\n",
        "        self.tfidf(preprocessed_data)\n",
        "        preprocessed_data = self.tfidf.transform(preprocessed_data)\n",
        "        features_df = pd.DataFrame(preprocessed_data.toarray())\n",
        "\n",
        "        print(\"Splitting data into train and test set\")\n",
        "        X_train, X_test, y_train, y_test = train_test_split(features_df, self.df.label, test_size=self.test_data_ratio, random_state=21)\n",
        "        print(\"--- Training the model on train set ---\")\n",
        "\n",
        "        random_forest = RandomForestClassifier(n_estimators=100, random_state=21)  # Adjust parameters as needed\n",
        "        random_forest.fit(X_train, y_train)\n",
        "\n",
        "        with open(\"fakenewsmodel.pkl\", \"wb\") as file:\n",
        "            pickle.dump(random_forest, file)\n",
        "\n",
        "        print(\"Random Forest model trained successfully!\")\n",
        "        print(\"Classification Metrics for the train set is:\\n\")\n",
        "        self.compute_metrics(X_train, y_train, random_forest)\n",
        "\n",
        "        print(\"--- Testing the model on the test set ---\")\n",
        "        print(\"Classification Metrics for the test set is:\\n\")\n",
        "        self.compute_metrics(X_test, y_test, random_forest)\n",
        "        print(X_train.shape)\n",
        "        print(X_test.shape)\n",
        "        print(y_train.shape)\n",
        "        print(y_test.shape)\n",
        "\n",
        "    def test_news(self, test_file):\n",
        "        with open(\"fakenewsmodel.pkl\", \"rb\") as file:\n",
        "            model = pickle.load(file)\n",
        "\n",
        "        df_test = pd.read_csv(test_file)\n",
        "        preprocessed_testdata = self.preprocess_data(df_test)\n",
        "        preprocessed_testdata = self.tfidf.transform(preprocessed_testdata)\n",
        "        features_df = pd.DataFrame(preprocessed_testdata.toarray())\n",
        "\n",
        "        print(features_df.shape)\n",
        "        df_test[\"label\"] = model.predict(features_df)\n",
        "\n",
        "        print(model.predict_proba(features_df))\n",
        "        print(model.classes_)\n",
        "\n",
        "        probabs = model.predict_proba(features_df)\n",
        "        probs = [round(max(prob[0], prob[1]), 2) for prob in probabs]\n",
        "        df_test[\"probability\"] = probs\n",
        "        df_test.to_csv(\"test_pred.csv\", index=False)\n"
      ]
    },
    {
      "cell_type": "code",
      "source": [
        "#Specify the input filename\n",
        "INPUTFILE=r\"fakenews.csv\"\n",
        "TESTFILE=r\"fakenewstest.csv\"\n",
        "#Specify the ratio of the data to subset for prediction\n",
        "test_data_ratio = 0.20"
      ],
      "metadata": {
        "id": "ZFJ_u_GfWDOS"
      },
      "execution_count": null,
      "outputs": []
    },
    {
      "cell_type": "code",
      "source": [
        "fakenews = FakeNewsDetection(INPUTFILE, test_data_ratio)"
      ],
      "metadata": {
        "colab": {
          "base_uri": "https://localhost:8080/"
        },
        "id": "W_5aT2hPXmZH",
        "outputId": "338a0cbf-4d33-4942-8282-f0b1daf95497"
      },
      "execution_count": null,
      "outputs": [
        {
          "output_type": "stream",
          "name": "stdout",
          "text": [
            "                                                text  label\n",
            "0  Get the latest from TODAY Sign up for our news...      1\n",
            "1  2d  Conan On The Funeral Trump Will Be Invited...      1\n",
            "2  It’s safe to say that Instagram Stories has fa...      0\n",
            "3  Much like a certain Amazon goddess with a lass...      0\n",
            "4  At a time when the perfect outfit is just one ...      0\n",
            "0.2\n"
          ]
        }
      ]
    },
    {
      "cell_type": "code",
      "source": [
        "fakenews.detect()"
      ],
      "metadata": {
        "colab": {
          "base_uri": "https://localhost:8080/",
          "height": 1000
        },
        "id": "fu4UxDVrXr1C",
        "outputId": "3324d138-639c-471c-d123-37acde13c7c9"
      },
      "execution_count": null,
      "outputs": [
        {
          "output_type": "stream",
          "name": "stdout",
          "text": [
            "--- Preprocessing data ---\n",
            "Splitting data into train and test set\n",
            "--- Training the model on train set ---\n",
            "Random Forest model trained successfully!\n",
            "Classification Metrics for the train set is:\n",
            "\n",
            "              precision    recall  f1-score   support\n",
            "\n",
            "           0       1.00      1.00      1.00      2303\n",
            "           1       1.00      1.00      1.00      1496\n",
            "\n",
            "    accuracy                           1.00      3799\n",
            "   macro avg       1.00      1.00      1.00      3799\n",
            "weighted avg       1.00      1.00      1.00      3799\n",
            "\n"
          ]
        },
        {
          "output_type": "display_data",
          "data": {
            "text/plain": [
              "<Figure size 640x480 with 2 Axes>"
            ],
            "image/png": "[encoded data removed]"
          },
          "metadata": {}
        },
        {
          "output_type": "stream",
          "name": "stdout",
          "text": [
            "--- Testing the model on the test set ---\n",
            "Classification Metrics for the test set is:\n",
            "\n",
            "              precision    recall  f1-score   support\n",
            "\n",
            "           0       0.74      0.89      0.81       578\n",
            "           1       0.75      0.51      0.60       372\n",
            "\n",
            "    accuracy                           0.74       950\n",
            "   macro avg       0.74      0.70      0.71       950\n",
            "weighted avg       0.74      0.74      0.73       950\n",
            "\n"
          ]
        },
        {
          "output_type": "display_data",
          "data": {
            "text/plain": [
              "<Figure size 640x480 with 2 Axes>"
            ],
            "image/png": "[encoded data removed]"
          },
          "metadata": {}
        },
        {
          "output_type": "stream",
          "name": "stdout",
          "text": [
            "(3799, 5000)\n",
            "(950, 5000)\n",
            "(3799,)\n",
            "(950,)\n"
          ]
        }
      ]
    },
    {
      "cell_type": "code",
      "source": [
        "fakenews.test_news(TESTFILE)"
      ],
      "metadata": {
        "colab": {
          "base_uri": "https://localhost:8080/"
        },
        "id": "-_ADJ-hMXvQB",
        "outputId": "45ef07e0-f201-4296-ebb1-ec384f5ecc07"
      },
      "execution_count": null,
      "outputs": [
        {
          "output_type": "stream",
          "name": "stdout",
          "text": [
            "(6, 5000)\n",
            "[[0.88 0.12]\n",
            " [0.83 0.17]\n",
            " [0.96 0.04]\n",
            " [0.16 0.84]\n",
            " [0.13 0.87]\n",
            " [0.09 0.91]]\n",
            "[0 1]\n"
          ]
        }
      ]
    },
    {
      "cell_type": "code",
      "source": [],
      "metadata": {
        "id": "eQs_uG6KYLfp"
      },
      "execution_count": null,
      "outputs": []
    }
  ]
}